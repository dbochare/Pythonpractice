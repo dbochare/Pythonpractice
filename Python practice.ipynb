{
 "cells": [
  {
   "cell_type": "markdown",
   "id": "6a3999b6",
   "metadata": {},
   "source": [
    "Python Practice"
   ]
  },
  {
   "cell_type": "markdown",
   "id": "63e84372",
   "metadata": {},
   "source": [
    "Following are some of the important features of Python:\n",
    "\n",
    "Python is open source: The Python implementation is under an open source license that makes it freely usable and distributable, even for commercial use.\n",
    "\n",
    "Python is interpreted: Python is a high level language which is interpreted by a Python interpreter.\n",
    "\n",
    "Python is cross platform compatible: Python can be executed on all major platforms like Windows, Linux/Unix, OS/2, Mac and others.\n",
    "\n",
    "Python is Object-Oriented: In Python, we encapsulate data within the objects as it supports the object-oriented style of programming.\n",
    "\n",
    "Python is a great choice for new learners: Python is easy to learn and follows a simple syntax, so it is a good choice for beginner programmers. Python also supports wide range of application development.\n",
    "\n",
    "Python is extensible: Python has a wide range of libraries and built-in functions which helps in easy and rapid development of applications.\n",
    "\n",
    "Python is interactive: Python users are provided a command prompt where they can interact directly with the interpreter to write programs.\n",
    "\n",
    "Database connectivity: Python provides interfaces required to connect to all major databases like Oracle, MySQL, PostgreSQL and others.\n",
    "\n",
    "Comments in Python\n",
    "\n",
    "There are two types of comments available in Python:\n",
    "\n",
    "First one is single line comment which starts with ‘#’ symbol and extends till the end of line. Comments can start from the beginning of the line and middle of the line, but it should not be a part of string literal.\n",
    "\n",
    "Second one is multi line comment which starts with ''' or \"\"\" and ends with ''' or \"\"\" respectively. This type of comment is mainly used for documentation purpose.\n",
    "\n",
    "Comments can be used to explain code, make the code more readable, prevent execution when testing code.\n",
    "Literal Constants\n",
    "An example of a literal constant is a number like 5, 1.23, or a string like 'This is a string' or \"It's a string!\".\n",
    "\n",
    "It is called a literal because it is literal - you use its value literally. The number 2 always represents itself and nothing else - it is a constant because its value cannot be changed. Hence, all these are referred to as literal constants.\n",
    "\n",
    "Numbers\n",
    "\n",
    "Numbers are mainly of two types - integers and floats.\n",
    "\n",
    "An example of an integer is 2 which is just a whole number.\n",
    "\n",
    "Examples of floating point numbers (or floats for short) are 3.23 and 52.3E-4. The E notation indicates powers of 10. In this case, 52.3E-4 means 52.3 * 10^-4^\n",
    "\n",
    "Strings\n",
    "\n",
    "A string is a sequence of characters. Strings are basically just a bunch of words. Strings in python are surrounded by either single quotation marks, or double quotation marks.\n",
    "\n",
    "e.g. 'hello', \"hello\"\n",
    "\n",
    "Variable and its dimensions\n",
    "Variables are like containers for data (i.e. they hold the data) and the value of the variable can vary throughout the program.\n",
    "\n",
    "In Python, the datatype of a variable is decided automatically at the time of execution based on the value assigned to it. This is called as dynamic typing. A variable will have a name, value, type and it will occupy memory. Apart from these, it has two more dimensions – scope and lifetime. Thus we can say that any variable will have the following six dimensions.\n",
    "\n",
    "Name:- Identifies the variable\n",
    "Datatype:- Determines the type, memory required and the operations that can be performed on it.\n",
    "Address:- Specifies where it is stored in memory\n",
    "Value:- Data held by the variable\n",
    "Lifetime:- Specifies how long it will be stored in memory\n",
    "Scope:- Specifies where in the program it can be accessed\n"
   ]
  },
  {
   "cell_type": "code",
   "execution_count": 4,
   "id": "5e00a41f",
   "metadata": {},
   "outputs": [
    {
     "data": {
      "text/plain": [
       "'Hello World'"
      ]
     },
     "execution_count": 4,
     "metadata": {},
     "output_type": "execute_result"
    }
   ],
   "source": [
    "\"Hello World\" #Constant"
   ]
  },
  {
   "cell_type": "code",
   "execution_count": 3,
   "id": "078f1a6c",
   "metadata": {},
   "outputs": [
    {
     "name": "stdout",
     "output_type": "stream",
     "text": [
      "<class 'int'>\n",
      "<class 'float'>\n",
      "<class 'str'>\n",
      "<class 'bool'>\n",
      "<class 'complex'>\n"
     ]
    }
   ],
   "source": [
    "print(type(2))\n",
    "print(type(2.0))\n",
    "print(type(\"Hi\"))\n",
    "print(type(True))\n",
    "print(type(5j))"
   ]
  },
  {
   "cell_type": "code",
   "execution_count": 2,
   "id": "6dbb6a66",
   "metadata": {},
   "outputs": [
    {
     "name": "stdout",
     "output_type": "stream",
     "text": [
      "10\n",
      "HiThere\n",
      "1 1 1\n",
      "0\n",
      "25\n"
     ]
    }
   ],
   "source": [
    "a=5 #creating variable\n",
    "print(a+5)\n",
    "a='Hi'\n",
    "print(a + \"There\")\n",
    "a,b,c=5,6,7 #assigning values to multiple variables in single line\n",
    "a=b=c=1 #assigning one value to multiple variables\n",
    "print(a,b,c)\n",
    "print(2//3) #floor division\n",
    "print(5**2) #squared"
   ]
  },
  {
   "cell_type": "code",
   "execution_count": 5,
   "id": "b09ae733",
   "metadata": {},
   "outputs": [
    {
     "name": "stdout",
     "output_type": "stream",
     "text": [
      "\\n\n"
     ]
    }
   ],
   "source": [
    "print(r'\\n') #raw strings"
   ]
  },
  {
   "cell_type": "code",
   "execution_count": 12,
   "id": "ff708cec",
   "metadata": {},
   "outputs": [
    {
     "data": {
      "text/plain": [
       "'Hi Hi There'"
      ]
     },
     "execution_count": 12,
     "metadata": {},
     "output_type": "execute_result"
    }
   ],
   "source": [
    "2*'Hi '+\"There\" #concatenation \n"
   ]
  },
  {
   "cell_type": "code",
   "execution_count": 11,
   "id": "83f12411",
   "metadata": {},
   "outputs": [
    {
     "data": {
      "text/plain": [
       "'Python'"
      ]
     },
     "execution_count": 11,
     "metadata": {},
     "output_type": "execute_result"
    }
   ],
   "source": [
    "'Py' 'thon' #it only works with literals and not with variables"
   ]
  },
  {
   "cell_type": "code",
   "execution_count": 2,
   "id": "c2d9f56f",
   "metadata": {},
   "outputs": [],
   "source": [
    "\n",
    "    "
   ]
  },
  {
   "cell_type": "code",
   "execution_count": null,
   "id": "b0c83fb8",
   "metadata": {},
   "outputs": [],
   "source": []
  }
 ],
 "metadata": {
  "kernelspec": {
   "display_name": "Python 3 (ipykernel)",
   "language": "python",
   "name": "python3"
  },
  "language_info": {
   "codemirror_mode": {
    "name": "ipython",
    "version": 3
   },
   "file_extension": ".py",
   "mimetype": "text/x-python",
   "name": "python",
   "nbconvert_exporter": "python",
   "pygments_lexer": "ipython3",
   "version": "3.9.7"
  }
 },
 "nbformat": 4,
 "nbformat_minor": 5
}
